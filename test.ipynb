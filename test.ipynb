{
 "cells": [
  {
   "cell_type": "code",
   "execution_count": 4,
   "id": "9d2ee14c-6a28-43de-a8c0-8a8b137a49a1",
   "metadata": {},
   "outputs": [
    {
     "name": "stdout",
     "output_type": "stream",
     "text": [
      "Note: you may need to restart the kernel to use updated packages.\n",
      "Note: you may need to restart the kernel to use updated packages.\n",
      "Note: you may need to restart the kernel to use updated packages.\n",
      "Note: you may need to restart the kernel to use updated packages.\n",
      "Installations done\n"
     ]
    }
   ],
   "source": [
    "%pip -q install xarray\n",
    "%pip -q install matplotlib\n",
    "%pip -q install netCDF4\n",
    "%pip -q install datetime\n",
    "\n",
    "print(\"Installations done\")\n"
   ]
  },
  {
   "cell_type": "code",
   "execution_count": 3,
   "id": "38a8b392-5719-4358-beb2-80fa289c8a98",
   "metadata": {},
   "outputs": [
    {
     "name": "stdout",
     "output_type": "stream",
     "text": [
      "Modules imported\n"
     ]
    }
   ],
   "source": [
    "import xarray as xr\n",
    "import matplotlib.pyplot as plt\n",
    "import numpy as np\n",
    "from datetime import datetime\n",
    "\n",
    "print(\"Modules imported\")"
   ]
  },
  {
   "cell_type": "markdown",
   "id": "75185a4e-5a35-4283-839e-d5b5bcc21e60",
   "metadata": {},
   "source": [
    "# Drought Chronicles\n",
    "\n",
    "## A Jupyter Notebook to understand droughts.\n",
    "---\n",
    "\n",
    "The following notebook intends to provide a visual narrative of the droughts that have affected a particular region and define their severity for a certain year. \\\n",
    "It starts from a global approach down to a more local region by looking at the example of Mozambique."
   ]
  },
  {
   "cell_type": "markdown",
   "id": "5c1ae39b-0bfc-49e5-b953-a535757b0a50",
   "metadata": {},
   "source": [
    "### Importing datasets\n"
   ]
  },
  {
   "cell_type": "code",
   "execution_count": null,
   "id": "3cda57e4-c296-47e1-93cc-4f53cc1763c7",
   "metadata": {},
   "outputs": [],
   "source": [
    "some python code"
   ]
  },
  {
   "cell_type": "markdown",
   "id": "3d461dae-a761-4ac6-ab67-ec59d91c79cc",
   "metadata": {},
   "source": [
    "## Mozambique - An example of drought analysis\n",
    "\n",
    "(COPIED from USAID mozambique climate vulnerability profile, January 2013).\n",
    "\n",
    "\n",
    "Mozambique is located on the eastern coast of southern Africa and has a population of approximately 23.4 million people.\n",
    "Mozambique's coastline is the third longest in Africa and is home to approximately 60 percent of the country’s population as well as critical ecosystems such as dunes, reefs, bays, and mangroves.\n",
    "The rest of Mozambique is covered by savannah and secondary forest. Topographically, Mozambique is mountainous in the northwest and lies at the end of several river basins.\n",
    "\n",
    "The country faces multiple development challenges, including widespread poverty, low life expectancy, and gaps in its education system. Much of the country depends on rain-fed agriculture for both subsistence and export needs.\n",
    "Twenty-five percent of the country’s Gross Domestic Product (GDP) comes from agriculture and 80 percent of its population relies on agriculture for their livelihoods. Similarly, fisheries and aquaculture also represent critical livelihoods, representing about 40 percent of total export earnings.\n"
   ]
  },
  {
   "cell_type": "markdown",
   "id": "2bfb98ff-496c-4285-bf3e-bfde074e798a",
   "metadata": {},
   "source": [
    "Mozambique has a tropical to sub-tropical climate and experiences two seasons: a cool and dry season from April to September and a hot and humid season between October and March.\\\n",
    "Temperatures are warmer near the coast and southern lowland regions compared to the higher, inland regions. Mozambique is often affected by natural disasters, including droughts and floods associated with the El Niño Southern Oscillation.\n",
    "\n",
    "**TEMPERATURE**: Average annual temperatures in warmer regions of Mozambique range from 20 to 27°C, and in cooler regions average annual temperatures range from 15 to 25°C. Average annual temperature has increased by 0.6°C between 1960 and 2006. Mean annual temperatures are projected to increase by 1.0-2.8°C by the 2060s and by 1.4-4.6°C by the 2090s compared to 1970-1999 average observed temperatures. These increases are projected to be more rapid in the inland regions than on the coast. The frequency of hot days and nights are projected to increase while the frequency of cold days and nights will decrease.\n",
    "\n",
    "**PRECIPITATION**: The wet season in Mozambique lasts from November to April, bringing around 150 to 300 mm of rainfall per month in the north and 50 to 150 mm per month in the south. Average annual rainfall has decreased by 2.5 mm per month per decade between 1960 and 2006. However, the intensity of heavy rainfall events has increased over the same period, with the largest increases during the wet season. Rainfall projections are varied and divergent across models, particularly depending on season and region. The models indicate an overall increase in precipitation, especially during the wet season and in coastal regions."
   ]
  }
 ],
 "metadata": {
  "kernelspec": {
   "display_name": "Python 3 (ipykernel)",
   "language": "python",
   "name": "python3"
  },
  "language_info": {
   "codemirror_mode": {
    "name": "ipython",
    "version": 3
   },
   "file_extension": ".py",
   "mimetype": "text/x-python",
   "name": "python",
   "nbconvert_exporter": "python",
   "pygments_lexer": "ipython3",
   "version": "3.12.2"
  }
 },
 "nbformat": 4,
 "nbformat_minor": 5
}
